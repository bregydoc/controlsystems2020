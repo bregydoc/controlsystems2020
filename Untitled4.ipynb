{
 "cells": [
  {
   "cell_type": "code",
   "execution_count": 3,
   "metadata": {},
   "outputs": [],
   "source": [
    "import control as ct\n",
    "import control2020 as ct20\n",
    "import numpy as np\n",
    "import sympy as sp\n",
    "from matplotlib import pyplot as plt\n",
    "%matplotlib inline"
   ]
  },
  {
   "cell_type": "code",
   "execution_count": 4,
   "metadata": {},
   "outputs": [],
   "source": [
    "s = ct.TransferFunction([1, 0], [1])"
   ]
  },
  {
   "cell_type": "code",
   "execution_count": 297,
   "metadata": {},
   "outputs": [
    {
     "ename": "SyntaxError",
     "evalue": "invalid syntax (<ipython-input-297-7ae006418e16>, line 19)",
     "output_type": "error",
     "traceback": [
      "\u001b[0;36m  File \u001b[0;32m\"<ipython-input-297-7ae006418e16>\"\u001b[0;36m, line \u001b[0;32m19\u001b[0m\n\u001b[0;31m    print(\"ki=\"ki)\u001b[0m\n\u001b[0m               ^\u001b[0m\n\u001b[0;31mSyntaxError\u001b[0m\u001b[0;31m:\u001b[0m invalid syntax\n"
     ]
    }
   ],
   "source": [
    "def pid_by_frequency(G, po, ts, err_step=None, err_ramp=None, err_parb=None):\n",
    "    ki = None\n",
    "    if err_step != None:\n",
    "        ess = ct.minreal(G/s).evalfr(0)[0][0]\n",
    "        ki = 1/err_step\n",
    "    elif err_ramp != None:\n",
    "        ess = ct.minreal(G).evalfr(0)[0][0]\n",
    "        ki = 1/err_ramp\n",
    "    elif err_parb != None:\n",
    "        ess = ct.minreal(s*G).evalfr(0)[0][0]\n",
    "        ki = 1/err_parb\n",
    "    if abs(ess) == np.inf or abs(ess) == np.nan:\n",
    "        ess = None\n",
    "    \n",
    "    if ess == None or ki == None:\n",
    "        assert \"Inconsistent system\"\n",
    "    \n",
    "    ki = ki/np.real(ess)\n",
    "    print(\"ki=\"ki)\n",
    "    \n",
    "    log_po = np.log(100/po)\n",
    "    psi = log_po/np.sqrt(np.pi**2 + log_po**2)\n",
    "    \n",
    "    wn = 4/psi/ts\n",
    "    print(\"wn=\", wn, \"psi=\", psi)\n",
    "\n",
    "    pm = 100*psi\n",
    "    wcp = wn\n",
    "\n",
    "    pcut = ct.minreal(G).evalfr(wcp)[0][0]\n",
    "    pcut_mag = np.abs(pcut)\n",
    "    pcut_angle = np.angle(pcut)\n",
    "    \n",
    "    controller_mag = 1/pcut_mag\n",
    "    controller_angle = -np.pi + pm*np.pi/180 - pcut_angle\n",
    "    \n",
    "    kp = controller_mag*np.cos(controller_angle)\n",
    "    kd = (controller_mag*np.sin(controller_angle) + ki/wcp)/wcp\n",
    "    \n",
    "    print(pm, ki, kp, kd)\n",
    "    controller = kp + kd*s + ki/s;\n",
    "    \n",
    "    return controller"
   ]
  },
  {
   "cell_type": "code",
   "execution_count": 163,
   "metadata": {},
   "outputs": [
    {
     "name": "stdout",
     "output_type": "stream",
     "text": [
      "1 states have been removed from the model\n",
      "5.0\n",
      "wn 3.980243831047246 psi= 0.5911550337988976\n",
      "0 states have been removed from the model\n",
      "59.11550337988976 5.0 2.1825434632855685 0.335474975954515\n",
      "0.19984939891674003\n",
      "(inf, 119.1102315856021, nan, 4.027665592473068)\n",
      "{'RiseTime': 0.27212040052151587, 'SettlingTime': 2.617798253016983, 'SettlingMin': 0.906131406829549, 'SettlingMax': 1.262484930232353, 'Overshoot': 26.251515538075292, 'Undershoot': 0.0, 'Peak': 1.262484930232353, 'PeakTime': 0.8272460175854084, 'SteadyStateValue': 0.9999760595757833}\n"
     ]
    },
    {
     "data": {
      "text/plain": [
       "[<matplotlib.lines.Line2D at 0x127a1adf0>]"
      ]
     },
     "execution_count": 163,
     "metadata": {},
     "output_type": "execute_result"
    },
    {
     "data": {
      "image/png": "[encoded data removed]",
      "text/plain": [
       "<Figure size 432x288 with 1 Axes>"
      ]
     },
     "metadata": {
      "needs_background": "light"
     },
     "output_type": "display_data"
    }
   ],
   "source": [
    "g = 400/s/(s**2+30*s+200)\n",
    "\n",
    "k = pid_by_frequency(g, po=10, ts=1.7, err_parb=0.1)\n",
    "\n",
    "sys = ct.feedback(k*g, 1)\n",
    "\n",
    "t = np.linspace(0, 30, 1000)\n",
    "u = t**2\n",
    "\n",
    "t, y, _ = ct.forced_response(sys, t, u)\n",
    "error = y - u\n",
    "print(abs(error[-1]))\n",
    "print(ct.margin(sys))\n",
    "print(ct.step_info(sys))\n",
    "plt.plot(t, y)\n",
    "plt.plot(t, u)\n",
    "# plt.plot(*ct.step_response(sys))"
   ]
  },
  {
   "cell_type": "code",
   "execution_count": 164,
   "metadata": {},
   "outputs": [
    {
     "name": "stdout",
     "output_type": "stream",
     "text": [
      "_____Eigenvalue______ Damping___ Frequency_\n",
      "    -13.71    +8.229j     0.8574      15.99\n",
      "    -13.71    -8.229j     0.8574      15.99\n",
      "    -1.287    +2.482j     0.4604      2.796\n",
      "    -1.287    -2.482j     0.4604      2.796\n"
     ]
    },
    {
     "data": {
      "text/plain": [
       "(array([15.99222851, 15.99222851,  2.79644326,  2.79644326]),\n",
       " array([0.8574488 , 0.8574488 , 0.46040014, 0.46040014]),\n",
       " array([-13.71251714+8.22910968j, -13.71251714-8.22910968j,\n",
       "         -1.28748286+2.48243485j,  -1.28748286-2.48243485j]))"
      ]
     },
     "execution_count": 164,
     "metadata": {},
     "output_type": "execute_result"
    }
   ],
   "source": [
    "ct.damp(sys)"
   ]
  },
  {
   "cell_type": "code",
   "execution_count": null,
   "metadata": {},
   "outputs": [],
   "source": []
  },
  {
   "cell_type": "code",
   "execution_count": 165,
   "metadata": {},
   "outputs": [
    {
     "name": "stdout",
     "output_type": "stream",
     "text": [
      "0 states have been removed from the model\n",
      "9.999999999999996\n",
      "wn 2.5650783876258947 psi= 0.7797032674120722\n",
      "0 states have been removed from the model\n",
      "77.97032674120722 9.999999999999996 6.579186041588085 2.7987294067811055\n",
      "-0.10000001750350407\n",
      "(inf, 76.23719568082544, nan, 38.94776748732324)\n"
     ]
    },
    {
     "data": {
      "text/plain": [
       "[<matplotlib.lines.Line2D at 0x127a6e9a0>]"
      ]
     },
     "execution_count": 165,
     "metadata": {},
     "output_type": "execute_result"
    },
    {
     "data": {
      "image/png": "[encoded data removed]",
      "text/plain": [
       "<Figure size 432x288 with 1 Axes>"
      ]
     },
     "metadata": {
      "needs_background": "light"
     },
     "output_type": "display_data"
    }
   ],
   "source": [
    "g = 10/(s+1)/(s+4)/(s+5)\n",
    "\n",
    "k = pid_by_frequency(g, po=2, ts=2, err_ramp=0.2)\n",
    "\n",
    "sys = ct.feedback(k*G, 1)\n",
    "\n",
    "t = np.linspace(0, 10, 5000)\n",
    "u = t**2\n",
    "\n",
    "t, y, _ = ct.forced_response(sys, t, u)\n",
    "error = y - u\n",
    "print(error[-1])\n",
    "print(ct.margin(sys))\n",
    "plt.plot(t, error)"
   ]
  },
  {
   "cell_type": "code",
   "execution_count": 64,
   "metadata": {},
   "outputs": [
    {
     "data": {
      "text/plain": [
       "(100,)"
      ]
     },
     "execution_count": 64,
     "metadata": {},
     "output_type": "execute_result"
    }
   ],
   "source": [
    "np.shape(t**2)"
   ]
  },
  {
   "cell_type": "code",
   "execution_count": 65,
   "metadata": {},
   "outputs": [
    {
     "data": {
      "text/plain": [
       "(100,)"
      ]
     },
     "execution_count": 65,
     "metadata": {},
     "output_type": "execute_result"
    }
   ],
   "source": [
    "np.shape(t)"
   ]
  },
  {
   "cell_type": "code",
   "execution_count": 138,
   "metadata": {},
   "outputs": [
    {
     "data": {
      "text/plain": [
       "2.302585092994046"
      ]
     },
     "execution_count": 138,
     "metadata": {},
     "output_type": "execute_result"
    }
   ],
   "source": [
    "np.log(100/10)"
   ]
  },
  {
   "cell_type": "code",
   "execution_count": 141,
   "metadata": {},
   "outputs": [
    {
     "name": "stdout",
     "output_type": "stream",
     "text": [
      "0.5911550337988976\n",
      "2.302585092994046\n",
      "3.8950612975366328\n"
     ]
    }
   ],
   "source": [
    "log_po = np.log(100/10)\n",
    "psi = log_po/np.sqrt(np.pi**2 + log_po**2)\n",
    "print(psi)\n",
    "print(log_po)\n",
    "print(np.sqrt(np.pi**2 + log_po**2))"
   ]
  },
  {
   "cell_type": "code",
   "execution_count": 147,
   "metadata": {},
   "outputs": [
    {
     "data": {
      "text/latex": [
       "$$\\frac{0.3355 s^2 + 2.183 s + 5}{s}$$"
      ],
      "text/plain": [
       "\n",
       "0.3355 s^2 + 2.183 s + 5\n",
       "------------------------\n",
       "            s"
      ]
     },
     "execution_count": 147,
     "metadata": {},
     "output_type": "execute_result"
    }
   ],
   "source": [
    "k"
   ]
  },
  {
   "cell_type": "code",
   "execution_count": 243,
   "metadata": {},
   "outputs": [],
   "source": [
    "def frequency_requirements(g, gain_margin=None, phase_margin=None):\n",
    "    gains = []\n",
    "\n",
    "    gm, pm, _, _ = ct.margin(g)\n",
    "    if gain_margin is not None:\n",
    "        gains.append(10 ** (-(gain_margin - gm) / 20))\n",
    "\n",
    "    if phase_margin is not None:\n",
    "        mag, phase, omega = ct.bode(g, Plot=False)\n",
    "        \n",
    "        arg = np.argmin(abs(phase - (phase_margin - np.pi)))\n",
    "        m = 20*np.log10(mag[arg])\n",
    "        gains.append(10 ** (-m / 20))\n",
    "        \n",
    "    return np.prod(gains)"
   ]
  },
  {
   "cell_type": "code",
   "execution_count": 246,
   "metadata": {},
   "outputs": [
    {
     "data": {
      "text/plain": [
       "0.04766348334116984"
      ]
     },
     "execution_count": 246,
     "metadata": {},
     "output_type": "execute_result"
    }
   ],
   "source": [
    "G = 10/s/(s+1)/(s+3)\n",
    "frequency_requirements(G, phase_margin=30*np.pi/180, gain_margin=20)"
   ]
  },
  {
   "cell_type": "code",
   "execution_count": 240,
   "metadata": {},
   "outputs": [
    {
     "name": "stdout",
     "output_type": "stream",
     "text": [
      "8.029863377046851 0.9267593301146878\n"
     ]
    }
   ],
   "source": [
    "phase_margin = 30*np.pi/180\n",
    "mag, phase, omega = ct.bode(G, Plot=False, omega=np.logspace(-1, 2, 1000))\n",
    "arg = np.argmin(abs(phase - (phase_margin - np.pi)))\n",
    "print(20*np.log10(mag[arg]), omega[arg])"
   ]
  },
  {
   "cell_type": "code",
   "execution_count": 228,
   "metadata": {},
   "outputs": [
    {
     "data": {
      "image/png": "[encoded data removed]",
      "text/plain": [
       "<Figure size 432x288 with 1 Axes>"
      ]
     },
     "metadata": {
      "needs_background": "light"
     },
     "output_type": "display_data"
    }
   ],
   "source": [
    "plt.semilogx(omega, phase*180/np.pi)\n",
    "plt.grid()"
   ]
  },
  {
   "cell_type": "code",
   "execution_count": 229,
   "metadata": {},
   "outputs": [
    {
     "data": {
      "text/plain": [
       "[<matplotlib.lines.Line2D at 0x12838f070>]"
      ]
     },
     "execution_count": 229,
     "metadata": {},
     "output_type": "execute_result"
    },
    {
     "data": {
      "image/png": "[encoded data removed]",
      "text/plain": [
       "<Figure size 432x288 with 1 Axes>"
      ]
     },
     "metadata": {
      "needs_background": "light"
     },
     "output_type": "display_data"
    }
   ],
   "source": [
    "plt.semilogx(omega, abs(phase - (phase_margin - np.pi)))"
   ]
  },
  {
   "cell_type": "code",
   "execution_count": 230,
   "metadata": {},
   "outputs": [
    {
     "data": {
      "image/png": "[encoded data removed]",
      "text/plain": [
       "<Figure size 432x288 with 1 Axes>"
      ]
     },
     "metadata": {
      "needs_background": "light"
     },
     "output_type": "display_data"
    }
   ],
   "source": [
    "plt.semilogx(omega, 20*np.log(mag))\n",
    "plt.grid()"
   ]
  },
  {
   "cell_type": "code",
   "execution_count": 323,
   "metadata": {},
   "outputs": [],
   "source": [
    "def ss_error(g, err_step=None, err_ramp=None, err_para=None):\n",
    "    s = ct.TransferFunction([1, 0], [1])\n",
    "    kx = None\n",
    "    ess = None\n",
    "    if err_step is not None:\n",
    "        ess = ct.evalfr(ct.minreal(g), 0j)\n",
    "        kx = 1 / err_step\n",
    "    elif err_ramp is not None:\n",
    "        ess = ct.evalfr(ct.minreal(s*g), 0j)\n",
    "        kx = 1 / err_ramp\n",
    "    elif err_para is not None:\n",
    "        ess = ct.evalfr(ct.minreal(g/s), 0j)\n",
    "        kx = 1 / err_para\n",
    "\n",
    "    return kx, ess"
   ]
  },
  {
   "cell_type": "code",
   "execution_count": 282,
   "metadata": {},
   "outputs": [],
   "source": [
    "def lead_compensator(g, err_step=None, err_ramp=None, err_para=None, pm=None, gm=None):\n",
    "    kc, ess = ss_error(g, err_step, err_ramp, err_para)\n",
    "    print(kc, ess)\n",
    "    if ess is None or kc is None:\n",
    "        assert \"Inconsistent system\"\n",
    "        \n",
    "    if abs(ess) == np.inf or abs(ess) == np.nan:\n",
    "        ess = None\n",
    "\n",
    "\n",
    "    print(kc, ess)"
   ]
  },
  {
   "cell_type": "code",
   "execution_count": 283,
   "metadata": {},
   "outputs": [
    {
     "name": "stdout",
     "output_type": "stream",
     "text": [
      "1 states have been removed from the model\n",
      "20.0 (1+0j)\n",
      "20.0 (1+0j)\n"
     ]
    }
   ],
   "source": [
    "lead_compensator(2/s/(s+2), err_ramp=0.05)"
   ]
  },
  {
   "cell_type": "code",
   "execution_count": 280,
   "metadata": {},
   "outputs": [
    {
     "name": "stdout",
     "output_type": "stream",
     "text": [
      "0 states have been removed from the model\n"
     ]
    },
    {
     "data": {
      "text/plain": [
       "(inf+0j)"
      ]
     },
     "execution_count": 280,
     "metadata": {},
     "output_type": "execute_result"
    }
   ],
   "source": [
    "ct.evalfr(ct.minreal(2/s/(s+2)), 0)"
   ]
  },
  {
   "cell_type": "code",
   "execution_count": 271,
   "metadata": {},
   "outputs": [
    {
     "name": "stderr",
     "output_type": "stream",
     "text": [
      "/Users/bregy/.local/share/virtualenvs/controlsystems2020-jf68W592/lib/python3.8/site-packages/control/xferfcn.py:637: RuntimeWarning: divide by zero encountered in cdouble_scalars\n",
      "  out[i][j] = (polyval(self.num[i][j], s) /\n",
      "/Users/bregy/.local/share/virtualenvs/controlsystems2020-jf68W592/lib/python3.8/site-packages/control/xferfcn.py:637: RuntimeWarning: invalid value encountered in cdouble_scalars\n",
      "  out[i][j] = (polyval(self.num[i][j], s) /\n"
     ]
    },
    {
     "data": {
      "text/plain": [
       "array([[inf+nanj]])"
      ]
     },
     "execution_count": 271,
     "metadata": {},
     "output_type": "execute_result"
    }
   ],
   "source": [
    "(g/s).evalfr(0)"
   ]
  },
  {
   "cell_type": "code",
   "execution_count": 319,
   "metadata": {},
   "outputs": [],
   "source": [
    "def pid_by_frequency(g, po, ts, err_step=None, err_ramp=None, err_para=None):\n",
    "    s = ct.TransferFunction([1, 0], [1])\n",
    "    ki, ess = ss_error(g/s, err_step, err_ramp, err_para)\n",
    "\n",
    "    if abs(ess) == np.inf or abs(ess) == np.nan:\n",
    "        ess = None\n",
    "\n",
    "    if ess is None or ki is None:\n",
    "        assert \"Inconsistent system\"\n",
    "\n",
    "    ki = ki / np.real(ess)\n",
    "    print(\"ki=\", ki)\n",
    "    log_po = np.log(100 / po)\n",
    "    psi = log_po / np.sqrt(np.pi ** 2 + log_po ** 2)\n",
    "\n",
    "    wn = 4 / psi / ts\n",
    "    print(\"wn=\", wn, \"psi=\", psi)\n",
    "\n",
    "    pm = 100 * psi\n",
    "    wcp = wn\n",
    "\n",
    "    p_cut = ct.evalfr(g, wcp * 1j)\n",
    "    p_cut_mag = np.abs(p_cut)\n",
    "    p_cut_angle = np.angle(p_cut)\n",
    "\n",
    "    controller_mag = 1 / p_cut_mag\n",
    "    controller_angle = -np.pi + pm * np.pi / 180 - p_cut_angle\n",
    "\n",
    "    kp = controller_mag * np.cos(controller_angle)\n",
    "    kd = (controller_mag * np.sin(controller_angle) + ki / wcp) / wcp\n",
    "\n",
    "    print(f\"pm={pm}, ki={ki}, kp={kp}, kd={kd}\")\n",
    "    controller = kp + kd * s + ki / s\n",
    "\n",
    "    return controller"
   ]
  },
  {
   "cell_type": "code",
   "execution_count": 320,
   "metadata": {},
   "outputs": [
    {
     "name": "stdout",
     "output_type": "stream",
     "text": [
      "1 states have been removed from the model\n",
      "ki= 9.999999999999996\n",
      "wn= 2.5650783876258947 psi= 0.7797032674120722\n",
      "pm=77.97032674120722, ki=9.999999999999996, kp=6.579186041588088, kd=2.7987294067811064\n",
      "-0.2000575261566393\n",
      "(inf, 139.15974025170783, nan, 1.739102076286444)\n"
     ]
    },
    {
     "data": {
      "text/plain": [
       "[<matplotlib.lines.Line2D at 0x1282078b0>]"
      ]
     },
     "execution_count": 320,
     "metadata": {},
     "output_type": "execute_result"
    },
    {
     "data": {
      "image/png": "[encoded data removed]",
      "text/plain": [
       "<Figure size 432x288 with 1 Axes>"
      ]
     },
     "metadata": {
      "needs_background": "light"
     },
     "output_type": "display_data"
    }
   ],
   "source": [
    "g = 10/(s+1)/(s+4)/(s+5)\n",
    "\n",
    "k = pid_by_frequency(g, po=2, ts=2, err_ramp=0.2)\n",
    "\n",
    "sys = ct.feedback(k*g, 1)\n",
    "\n",
    "t = np.linspace(0, 10, 5000)\n",
    "u = t\n",
    "\n",
    "t, y, _ = ct.forced_response(sys, t, u)\n",
    "error = y - u\n",
    "print(error[-1])\n",
    "print(ct.margin(sys))\n",
    "plt.plot(t, abs(error))"
   ]
  },
  {
   "cell_type": "code",
   "execution_count": 311,
   "metadata": {},
   "outputs": [
    {
     "data": {
      "text/plain": [
       "array([[-0.08473416-0.10640741j]])"
      ]
     },
     "execution_count": 311,
     "metadata": {},
     "output_type": "execute_result"
    }
   ],
   "source": [
    "g.evalfr(2.565078387625895)"
   ]
  },
  {
   "cell_type": "code",
   "execution_count": 314,
   "metadata": {},
   "outputs": [
    {
     "data": {
      "text/plain": [
       "(-0.0847341572019176-0.10640740858253592j)"
      ]
     },
     "execution_count": 314,
     "metadata": {},
     "output_type": "execute_result"
    }
   ],
   "source": [
    "ct.evalfr(g, 2.565078387625895j)"
   ]
  },
  {
   "cell_type": "code",
   "execution_count": 315,
   "metadata": {},
   "outputs": [
    {
     "data": {
      "text/plain": [
       "[<matplotlib.lines.Line2D at 0x128149970>]"
      ]
     },
     "execution_count": 315,
     "metadata": {},
     "output_type": "execute_result"
    },
    {
     "data": {
      "image/png": "[encoded data removed]",
      "text/plain": [
       "<Figure size 432x288 with 1 Axes>"
      ]
     },
     "metadata": {
      "needs_background": "light"
     },
     "output_type": "display_data"
    }
   ],
   "source": [
    "plt.plot(*ct.step_response(sys))"
   ]
  },
  {
   "cell_type": "code",
   "execution_count": 318,
   "metadata": {},
   "outputs": [
    {
     "data": {
      "text/latex": [
       "$$\\frac{2.799 s^2 + 6.579 s + 10}{s}$$"
      ],
      "text/plain": [
       "\n",
       "2.799 s^2 + 6.579 s + 10\n",
       "------------------------\n",
       "            s"
      ]
     },
     "execution_count": 318,
     "metadata": {},
     "output_type": "execute_result"
    }
   ],
   "source": [
    "k"
   ]
  },
  {
   "cell_type": "code",
   "execution_count": 459,
   "metadata": {},
   "outputs": [],
   "source": [
    "def lead_compensator(g, err_step=None, err_ramp=None, err_para=None, pm_desired=None):\n",
    "    s = ct.TransferFunction([1, 0], [1])\n",
    "    # all radians policy\n",
    "    if pm_desired > 2 * np.pi:\n",
    "        print(\"remember, I need phase in radians\")\n",
    "    kc, ess = ss_error(g, err_step, err_ramp, err_para)\n",
    "\n",
    "    if abs(ess) == np.inf or abs(ess) == np.nan:\n",
    "        ess = None\n",
    "\n",
    "    if ess is None or kc is None:\n",
    "        assert \"Inconsistent system\"\n",
    "\n",
    "    kc = kc / np.real(ess)\n",
    "    print(f\"kc= {kc}\")\n",
    "\n",
    "    _, pm, _, wpm = ct.margin(kc * g)\n",
    "    print(pm, wpm)\n",
    "    k_angle = (pm_desired - pm * np.pi / 180 + 5 * np.pi / 180)  # 5deg extra\n",
    "\n",
    "    alpha = (1 + np.sin(k_angle)) / (1 - np.sin(k_angle))\n",
    "    print(f\"alpha= {alpha}\")\n",
    "    a = 10 * np.log10(alpha)\n",
    "\n",
    "    print(f\"A= {a}\")\n",
    "\n",
    "    mag, phase, omega = ct.bode(kc * g, Plot=False)\n",
    "    arg = np.argmin(abs(20 * np.log10(mag) - -a))\n",
    "    wcg = omega[arg]\n",
    "\n",
    "    tau = 1 / np.sqrt(alpha) / wcg\n",
    "\n",
    "    print(f\"tau= {tau}\")\n",
    "\n",
    "    lead = kc * (alpha * tau * s + 1) / (tau * s + 1)\n",
    "    return lead\n"
   ]
  },
  {
   "cell_type": "code",
   "execution_count": 460,
   "metadata": {},
   "outputs": [
    {
     "name": "stdout",
     "output_type": "stream",
     "text": [
      "1 states have been removed from the model\n",
      "kc= 20.0\n",
      "17.964235916371365 6.168465675433525\n",
      "alpha= 3.2593838104333512\n",
      "A= 5.131355040486892\n",
      "tau= 0.07006047287961681\n"
     ]
    }
   ],
   "source": [
    "g = 2/s/(s+2)\n",
    "k = lead_compensator(g, err_ramp=0.05, pm_desired=45*np.pi/180)"
   ]
  },
  {
   "cell_type": "code",
   "execution_count": 461,
   "metadata": {},
   "outputs": [
    {
     "data": {
      "text/plain": [
       "(inf, 45.095480711037425, nan, 8.565816239549184)"
      ]
     },
     "execution_count": 461,
     "metadata": {},
     "output_type": "execute_result"
    }
   ],
   "source": [
    "ct.margin(g*k)"
   ]
  },
  {
   "cell_type": "code",
   "execution_count": 462,
   "metadata": {},
   "outputs": [
    {
     "name": "stdout",
     "output_type": "stream",
     "text": [
      "1 states have been removed from the model\n",
      "kc= 3.125\n",
      "22.60228411527268 4.8041515804529835\n",
      "alpha= 1.8530782433155826\n",
      "A= 2.6789375710778245\n",
      "tau= 0.12318077080481277\n"
     ]
    }
   ],
   "source": []
  },
  {
   "cell_type": "code",
   "execution_count": 463,
   "metadata": {},
   "outputs": [
    {
     "data": {
      "text/plain": [
       "(inf, 36.98739767251993, nan, 5.610421360582372)"
      ]
     },
     "execution_count": 463,
     "metadata": {},
     "output_type": "execute_result"
    }
   ],
   "source": [
    "ct.margin(g*k)"
   ]
  },
  {
   "cell_type": "code",
   "execution_count": 464,
   "metadata": {},
   "outputs": [
    {
     "data": {
      "text/latex": [
       "$$\\frac{0.7133 s + 3.125}{0.1232 s + 1}$$"
      ],
      "text/plain": [
       "\n",
       "0.7133 s + 3.125\n",
       "----------------\n",
       "  0.1232 s + 1"
      ]
     },
     "execution_count": 464,
     "metadata": {},
     "output_type": "execute_result"
    }
   ],
   "source": [
    "k"
   ]
  },
  {
   "cell_type": "code",
   "execution_count": 471,
   "metadata": {},
   "outputs": [
    {
     "name": "stdout",
     "output_type": "stream",
     "text": [
      "1 states have been removed from the model\n",
      "kc= 25.0\n",
      "8.089281693498037 14.071602600628422\n",
      "alpha= 1.366570397342097\n",
      "A= 1.3563200879833073\n",
      "tau= 0.053469037074428585\n",
      "(inf, 16.41271361985406, nan, 15.161572352700711)\n",
      "0.009996978583275862\n",
      "(inf, 27.522368967963843, nan, 21.76430751069276)\n",
      "{'RiseTime': 0.07053964848877961, 'SettlingTime': 1.6606208915066867, 'SettlingMin': 0.5921156808074963, 'SettlingMax': 1.6729146836398157, 'Overshoot': 67.44630787970563, 'Undershoot': 0.0, 'Peak': 1.6729146836398157, 'PeakTime': 0.19986233738487558, 'SteadyStateValue': 0.9990752885645272}\n"
     ]
    },
    {
     "data": {
      "text/plain": [
       "[<matplotlib.lines.Line2D at 0x127d899d0>]"
      ]
     },
     "execution_count": 471,
     "metadata": {},
     "output_type": "execute_result"
    },
    {
     "data": {
      "image/png": "[encoded data removed]",
      "text/plain": [
       "<Figure size 432x288 with 1 Axes>"
      ]
     },
     "metadata": {
      "needs_background": "light"
     },
     "output_type": "display_data"
    }
   ],
   "source": [
    "g = 4/s/(.5*s+1)\n",
    "k = lead_compensator(g, err_ramp=0.01, pm_desired=12*np.pi/180)\n",
    "\n",
    "\n",
    "print(ct.margin(g*k))\n",
    "\n",
    "sys = ct.feedback(g*k, 1)\n",
    "\n",
    "t = np.linspace(0, 4, 1000)\n",
    "u = t\n",
    "\n",
    "t, y, _ = ct.forced_response(sys, t, u)\n",
    "error = y - u\n",
    "print(abs(error[-1]))\n",
    "print(ct.margin(sys))\n",
    "print(ct.step_info(sys))\n",
    "plt.plot(t, error)\n",
    "# plt.plot(t, u)"
   ]
  },
  {
   "cell_type": "code",
   "execution_count": 502,
   "metadata": {},
   "outputs": [],
   "source": [
    "def lag_compensator(g, err_step=None, err_ramp=None, err_para=None, pm_desired=None, psi=None):\n",
    "    s = ct.TransferFunction([1, 0], [1])\n",
    "    if psi is not None:\n",
    "        pm_desired = 100*psi * np.pi/180\n",
    "\n",
    "    if pm_desired > 2 * np.pi:\n",
    "        print(\"remember, I need phase in radians\")\n",
    "\n",
    "    kc, ess = ss_error(g, err_step, err_ramp, err_para)\n",
    "\n",
    "    if abs(ess) == np.inf or abs(ess) == np.nan:\n",
    "        ess = None\n",
    "\n",
    "    if ess is None or kc is None:\n",
    "        assert \"Inconsistent system\"\n",
    "\n",
    "    kc = kc/np.real(ess)\n",
    "\n",
    "    print(\"kc=\", kc)\n",
    "\n",
    "    phi = (pm_desired + 7*np.pi/180) - np.pi\n",
    "    \n",
    "    print(\"phi=\", phi)\n",
    "\n",
    "    mag, phase, omega = ct.bode(kc * g, Plot=False)\n",
    "    arg = np.argmin(abs(phase-phi))\n",
    "\n",
    "    wcg = omega[arg]\n",
    "    print(f\"wcg= {wcg}\")\n",
    "\n",
    "    gain = 20 * np.log10(mag[arg])\n",
    "    a = 0 - gain\n",
    "    print(f\"A= {a}\")\n",
    "\n",
    "    alpha = 10 ** (a / 20)\n",
    "    tau = 10 / alpha / wcg\n",
    "    \n",
    "    lag = kc * (alpha * tau * s + 1) / (tau * s + 1)\n",
    "\n",
    "    return lag"
   ]
  },
  {
   "cell_type": "code",
   "execution_count": 488,
   "metadata": {},
   "outputs": [
    {
     "name": "stdout",
     "output_type": "stream",
     "text": [
      "1 states have been removed from the model\n",
      "kc=  10.0\n",
      "wcg= 1.0985411419875584\n",
      "A= -17.781841601140332\n"
     ]
    },
    {
     "data": {
      "text/latex": [
       "$$\\frac{91.03 s + 10}{70.51 s + 1}$$"
      ],
      "text/plain": [
       "\n",
       "91.03 s + 10\n",
       "------------\n",
       "70.51 s + 1"
      ]
     },
     "execution_count": 488,
     "metadata": {},
     "output_type": "execute_result"
    }
   ],
   "source": [
    "g = 10/s/(s+5)\n",
    "lag_compensator(g, psi=0.7, err_ramp=0.05)"
   ]
  },
  {
   "cell_type": "code",
   "execution_count": 500,
   "metadata": {},
   "outputs": [
    {
     "name": "stdout",
     "output_type": "stream",
     "text": [
      "1 states have been removed from the model\n",
      "kc= 10.0\n",
      "phi= -1.7976891295541595\n",
      "wcg= 1.0985411419875584\n",
      "A= -17.781841601140332\n",
      "(inf, 62.57267133109491, nan, 2.340848140505642)\n",
      "0.05119521245893566\n",
      "(inf, 131.12482187111135, nan, 1.9880786583114323)\n",
      "{'RiseTime': 0.5523368941225397, 'SettlingTime': 6.321188899402398, 'SettlingMin': 0.9293729088374186, 'SettlingMax': 1.0856125364678388, 'Overshoot': 8.557180858315176, 'Undershoot': 0.0, 'Peak': 1.0856125364678388, 'PeakTime': 1.2274153202723104, 'SteadyStateValue': 1.0000375174487446}\n"
     ]
    },
    {
     "data": {
      "text/plain": [
       "[<matplotlib.lines.Line2D at 0x128ea3340>]"
      ]
     },
     "execution_count": 500,
     "metadata": {},
     "output_type": "execute_result"
    },
    {
     "data": {
      "image/png": "[encoded data removed]",
      "text/plain": [
       "<Figure size 432x288 with 1 Axes>"
      ]
     },
     "metadata": {
      "needs_background": "light"
     },
     "output_type": "display_data"
    }
   ],
   "source": [
    "g = 10/s/(s+5)\n",
    "k = lag_compensator(g, psi=0.7, err_ramp=0.05)\n",
    "\n",
    "print(ct.margin(g*k))\n",
    "\n",
    "sys = ct.feedback(g*k, 1)\n",
    "\n",
    "t = np.linspace(0, 50, 1000)\n",
    "u = t\n",
    "\n",
    "t, y, _ = ct.forced_response(sys, t, u)\n",
    "error = y - u\n",
    "print(abs(error[-1]))\n",
    "print(ct.margin(sys))\n",
    "print(ct.step_info(sys))\n",
    "plt.plot(t, error)\n",
    "# plt.plot(t, u)"
   ]
  },
  {
   "cell_type": "code",
   "execution_count": 493,
   "metadata": {},
   "outputs": [
    {
     "data": {
      "image/png": "[encoded data removed]",
      "text/plain": [
       "<Figure size 432x288 with 2 Axes>"
      ]
     },
     "metadata": {
      "needs_background": "light"
     },
     "output_type": "display_data"
    }
   ],
   "source": [
    "_ = ct.bode(g)\n",
    "_ = ct.bode(g*k)"
   ]
  },
  {
   "cell_type": "code",
   "execution_count": 494,
   "metadata": {},
   "outputs": [
    {
     "data": {
      "text/plain": [
       "(inf, 69.46490437044838, nan, 1.872914999027485)"
      ]
     },
     "execution_count": 494,
     "metadata": {},
     "output_type": "execute_result"
    }
   ],
   "source": [
    "ct.margin(g)"
   ]
  },
  {
   "cell_type": "code",
   "execution_count": 495,
   "metadata": {},
   "outputs": [
    {
     "data": {
      "text/plain": [
       "(inf, 62.57267133109491, nan, 2.340848140505642)"
      ]
     },
     "execution_count": 495,
     "metadata": {},
     "output_type": "execute_result"
    }
   ],
   "source": [
    "ct.margin(g*k)"
   ]
  },
  {
   "cell_type": "code",
   "execution_count": 509,
   "metadata": {},
   "outputs": [
    {
     "name": "stdout",
     "output_type": "stream",
     "text": [
      "1 states have been removed from the model\n",
      "kc= 5.0\n",
      "phi= -2.321287905152458\n",
      "wcg= 0.5428675439323859\n",
      "A= -17.85508007535221\n",
      "(4.353593946132846, 41.214692651114404, 1.363090755736547, 0.5449040222918821)\n",
      "0.20422027443530055\n",
      "(3.3535939461328463, 49.05229704176509, 1.363090755736547, 0.8296380515243581)\n",
      "{'RiseTime': 2.032419458344143, 'SettlingTime': 25.82368252954911, 'SettlingMin': 0.9314503352516874, 'SettlingMax': 1.3237317296499163, 'Overshoot': 32.36269222506874, 'Undershoot': 0.0, 'Peak': 1.3237317296499163, 'PeakTime': 5.260379774537782, 'SteadyStateValue': 1.0000791819790509}\n"
     ]
    },
    {
     "data": {
      "text/plain": [
       "[<matplotlib.lines.Line2D at 0x12918a7f0>]"
      ]
     },
     "execution_count": 509,
     "metadata": {},
     "output_type": "execute_result"
    },
    {
     "data": {
      "image/png": "[encoded data removed]",
      "text/plain": [
       "<Figure size 432x288 with 1 Axes>"
      ]
     },
     "metadata": {
      "needs_background": "light"
     },
     "output_type": "display_data"
    }
   ],
   "source": [
    "g = 1/s/(s+1)/(.5*s+1)\n",
    "k = lag_compensator(g, pm_desired=40*np.pi/180, err_ramp=1/5)\n",
    "\n",
    "print(ct.margin(g*k))\n",
    "\n",
    "sys = ct.feedback(g*k, 1)\n",
    "\n",
    "t = np.linspace(0, 100, 1000)\n",
    "u = t\n",
    "\n",
    "t, y, _ = ct.forced_response(sys, t, u)\n",
    "error = y - u\n",
    "print(abs(error[-1]))\n",
    "print(ct.margin(sys))\n",
    "print(ct.step_info(sys))\n",
    "plt.plot(t, error)\n",
    "# plt.plot(t, u)"
   ]
  },
  {
   "cell_type": "code",
   "execution_count": 515,
   "metadata": {},
   "outputs": [
    {
     "name": "stdout",
     "output_type": "stream",
     "text": [
      "0 states have been removed from the model\n",
      "kc= 59.99999999999998\n",
      "phi= -2.2689280275926285\n",
      "wcg= 1.5998587196060574\n",
      "A= -31.250928974250414\n",
      "(3.344520079761217, 49.459663436089244, 3.1872142171463302, 1.605792750073777)\n",
      "0.009901813828329553\n",
      "(2.344520079761217, 41.05112367894162, 3.1872142171463302, 2.3845854621762506)\n",
      "{'RiseTime': 0.8388812530570782, 'SettlingTime': 19.462045070924216, 'SettlingMin': 0.7364483829604601, 'SettlingMax': 1.0740662620920847, 'Overshoot': 8.503435598775168, 'Undershoot': 0.0, 'Peak': 1.0740662620920847, 'PeakTime': 1.7896133398551004, 'SteadyStateValue': 0.9898914777811968}\n"
     ]
    },
    {
     "data": {
      "text/plain": [
       "[<matplotlib.lines.Line2D at 0x12936adf0>]"
      ]
     },
     "execution_count": 515,
     "metadata": {},
     "output_type": "execute_result"
    },
    {
     "data": {
      "image/png": "[encoded data removed]",
      "text/plain": [
       "<Figure size 432x288 with 1 Axes>"
      ]
     },
     "metadata": {
      "needs_background": "light"
     },
     "output_type": "display_data"
    }
   ],
   "source": [
    "g = 10/(s+1)/(s+2)/(s+3)\n",
    "k = lag_compensator(g, pm_desired=43*np.pi/180, err_step=0.01)\n",
    "\n",
    "print(ct.margin(g*k))\n",
    "\n",
    "sys = ct.feedback(g*k, 1)\n",
    "\n",
    "t = np.linspace(0, 100, 1000)\n",
    "u = np.ones_like(t)\n",
    "\n",
    "t, y, _ = ct.forced_response(sys, t, u)\n",
    "error = y - u\n",
    "print(abs(error[-1]))\n",
    "print(ct.margin(sys))\n",
    "print(ct.step_info(sys))\n",
    "plt.plot(t, error)\n",
    "# plt.plot(t, u)"
   ]
  },
  {
   "cell_type": "code",
   "execution_count": 521,
   "metadata": {},
   "outputs": [
    {
     "name": "stdout",
     "output_type": "stream",
     "text": [
      "1 states have been removed from the model\n",
      "kc= 15.0\n",
      "phi= -2.5830872929516078\n",
      "wcg= 1.2648552168552958\n",
      "A= -9.766837297760937\n",
      "(2.8578391815865305, 30.847254961971544, 2.360805492659704, 1.2687506040984624)\n",
      "0.20000070473798814\n",
      "(1.8578391815865307, 21.300972733115714, 2.360805492659704, 1.9331589503194344)\n",
      "{'RiseTime': 0.8941072480284264, 'SettlingTime': 11.78117785637456, 'SettlingMin': 0.8594598362440868, 'SettlingMax': 1.4522724829945977, 'Overshoot': 45.2196529631353, 'Undershoot': 0.0, 'Peak': 1.4522724829945977, 'PeakTime': 2.4193490240769187, 'SteadyStateValue': 1.0000523023996373}\n"
     ]
    },
    {
     "data": {
      "text/plain": [
       "[<matplotlib.lines.Line2D at 0x128bc8880>]"
      ]
     },
     "execution_count": 521,
     "metadata": {},
     "output_type": "execute_result"
    },
    {
     "data": {
      "image/png": "[encoded data removed]",
      "text/plain": [
       "<Figure size 432x288 with 1 Axes>"
      ]
     },
     "metadata": {
      "needs_background": "light"
     },
     "output_type": "display_data"
    }
   ],
   "source": [
    "g = 2/s/(s+2)/(s+3)\n",
    "k = lag_compensator(g, pm_desired=25*np.pi/180, err_ramp=0.2)\n",
    "\n",
    "print(ct.margin(g*k))\n",
    "\n",
    "sys = ct.feedback(g*k, 1)\n",
    "\n",
    "t = np.linspace(0, 100, 1000)\n",
    "u = t\n",
    "\n",
    "t, y, _ = ct.forced_response(sys, t, u)\n",
    "error = y - u\n",
    "print(abs(error[-1]))\n",
    "print(ct.margin(sys))\n",
    "print(ct.step_info(sys))\n",
    "plt.plot(t, error)\n",
    "# plt.plot(t, u)"
   ]
  },
  {
   "cell_type": "code",
   "execution_count": 517,
   "metadata": {},
   "outputs": [
    {
     "data": {
      "image/png": "[encoded data removed]",
      "text/plain": [
       "<Figure size 432x288 with 2 Axes>"
      ]
     },
     "metadata": {
      "needs_background": "light"
     },
     "output_type": "display_data"
    }
   ],
   "source": [
    "_ = ct.bode(g)"
   ]
  },
  {
   "cell_type": "code",
   "execution_count": 519,
   "metadata": {},
   "outputs": [
    {
     "data": {
      "text/plain": [
       "(14.999999999999996, 74.49234081149797, 2.449489742783178, 0.3270273321526198)"
      ]
     },
     "execution_count": 519,
     "metadata": {},
     "output_type": "execute_result"
    }
   ],
   "source": [
    "ct.margin(g)"
   ]
  },
  {
   "cell_type": "code",
   "execution_count": 527,
   "metadata": {},
   "outputs": [],
   "source": [
    "def lag_analytic_mode(g, wcg, pm_desired=None, psi=None, err_step=None, err_ramp=None, err_para=None):\n",
    "    s = ct.TransferFunction([1, 0], [1])\n",
    "    if psi is not None:\n",
    "        pm_desired = 100 * psi * np.pi / 180\n",
    "\n",
    "    if pm_desired > 2 * np.pi:\n",
    "        print(\"remember, I need phase in radians\")\n",
    "\n",
    "    kc, ess = ss_error(g, err_step, err_ramp, err_para)\n",
    "\n",
    "    if abs(ess) == np.inf or abs(ess) == np.nan:\n",
    "        ess = None\n",
    "\n",
    "    if ess is None or kc is None:\n",
    "        assert \"Inconsistent system\"\n",
    "\n",
    "    kc = kc / np.real(ess)\n",
    "    print(f\"kc= {kc}\")\n",
    "\n",
    "    i_point = ct.evalfr(g, 1j*wcg)\n",
    "\n",
    "    p_mag = np.abs(i_point)\n",
    "    p_angle = np.angle(i_point)\n",
    "\n",
    "    k_mag = 1 / p_mag\n",
    "    k_angle = -np.pi + pm_desired - p_angle\n",
    "\n",
    "    alpha = k_mag * (kc * np.cos(k_angle) - k_mag) / (kc * (kc - k_mag * np.cos(k_angle)))\n",
    "    tau = (k_mag * np.cos(k_angle) - kc) / (k_mag * wcg * np.sin(k_angle))\n",
    "    \n",
    "    print(f\"alpha= {alpha}, tau= {tau}\")\n",
    "    \n",
    "    controller = kc * (alpha * tau * s + 1) / (tau * s + 1)\n",
    "    \n",
    "    return controller"
   ]
  },
  {
   "cell_type": "code",
   "execution_count": 530,
   "metadata": {},
   "outputs": [
    {
     "name": "stdout",
     "output_type": "stream",
     "text": [
      "1 states have been removed from the model\n",
      "kc= 5.0\n",
      "alpha= 5.957707486042412, tau= 0.03811289338763014\n"
     ]
    }
   ],
   "source": [
    "g = 400/s/(s**2+30*s+200)\n",
    "k = lag_analytic_mode(g, wcg=14, pm_desired=45*np.pi/180, err_ramp=0.1)"
   ]
  },
  {
   "cell_type": "code",
   "execution_count": 533,
   "metadata": {},
   "outputs": [
    {
     "data": {
      "text/latex": [
       "$$\\frac{1.135 s + 5}{0.03811 s + 1}$$"
      ],
      "text/plain": [
       "\n",
       " 1.135 s + 5\n",
       "-------------\n",
       "0.03811 s + 1"
      ]
     },
     "execution_count": 533,
     "metadata": {},
     "output_type": "execute_result"
    }
   ],
   "source": [
    "k"
   ]
  },
  {
   "cell_type": "code",
   "execution_count": null,
   "metadata": {},
   "outputs": [],
   "source": []
  }
 ],
 "metadata": {
  "kernelspec": {
   "display_name": "controlsystems",
   "language": "python",
   "name": "controlsystems"
  },
  "language_info": {
   "codemirror_mode": {
    "name": "ipython",
    "version": 3
   },
   "file_extension": ".py",
   "mimetype": "text/x-python",
   "name": "python",
   "nbconvert_exporter": "python",
   "pygments_lexer": "ipython3",
   "version": "3.8.4"
  }
 },
 "nbformat": 4,
 "nbformat_minor": 4
}
