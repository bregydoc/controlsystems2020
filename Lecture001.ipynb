{
 "cells": [
  {
   "cell_type": "markdown",
   "metadata": {},
   "source": [
    "# Lecture1: Modeling Physical Systems\n",
    "That is a little cheat-sheet about the lecture 1 of my Control Systems course at UTEC-2020-1."
   ]
  },
  {
   "cell_type": "markdown",
   "metadata": {
    "pycharm": {
     "name": "#%% md\n"
    }
   },
   "source": [
    "## Definition of System\n",
    "Systems (in this grade) are described as a differential equation of the form\n",
    "\n",
    "$$g(y^n(t), y^{n-1}(t), ..., y(t), u^m(t), u^{m-1}(t), ..., u(t)) = 0$$\n",
    "\n",
    "where\n",
    "\n",
    "$$y^m(t) = \\frac{d^k}{dt^k}y(t)$$\n",
    "\n",
    "*Example*: \n",
    "\n",
    "$$a_2\\ddot y(t) + a_1\\dot y(t) + y(t) = b_0u(t)$$"
   ]
  },
  {
   "cell_type": "markdown",
   "metadata": {
    "pycharm": {
     "name": "#%% md\n"
    }
   },
   "source": [
    "## Most used physical laws\n",
    "A basic table with the quasi-axiomatic physical laws. Each one of these laws respond to the energy conservation concept. \n",
    "\n",
    "### Mechanics: Axial\n",
    "The sum of each force in the system should be equals to the mass by the acceleration of our body.\n",
    "\n",
    "$$\\sum_{i}^{} F_i = ma$$\n",
    "\n",
    "### Mechanics: Rotational\n",
    "The sum of each external torque in the system should be equals to the momentum by the angular velocity of our body.\n",
    "\n",
    "$$\\sum_{i}^{} T_i = J\\omega$$\n",
    "\n",
    "### Electric\n",
    "All the input voltages are equals to all output voltage.\n",
    " \n",
    "$$\\sum_{i}^{} V_s^i = \\sum_{j}^{} V_c^j$$\n",
    "\n",
    "### Hydraulic\n",
    "All the input flows minus all the output flows in the system should be equals to the derivative of the volume in the time. \n",
    "\n",
    "$$\\sum_{i}^{} Q_{in}^i - \\sum_{j}^{} Q_{out}^j = \\frac{\\partial V}{\\partial t}$$\n"
   ]
  },
  {
   "cell_type": "code",
   "execution_count": 2,
   "metadata": {
    "collapsed": true,
    "pycharm": {
     "is_executing": false
    }
   },
   "outputs": [],
   "source": [
    "import numpy as np\n",
    "import control as ct\n",
    "\n",
    "from matplotlib import pyplot as plt\n",
    "%matplotlib inline"
   ]
  },
  {
   "cell_type": "code",
   "execution_count": 7,
   "metadata": {
    "pycharm": {
     "is_executing": false,
     "name": "#%%\n"
    }
   },
   "outputs": [
    {
     "data": {
      "text/plain": [
       "[<matplotlib.lines.Line2D at 0x11e997110>]"
      ]
     },
     "execution_count": 7,
     "metadata": {},
     "output_type": "execute_result"
    },
    {
     "data": {
      "image/png": "[encoded data removed]",
      "text/plain": [
       "<Figure size 432x288 with 1 Axes>"
      ]
     },
     "metadata": {
      "needs_background": "light"
     },
     "output_type": "display_data"
    }
   ],
   "source": [
    "t = np.linspace(0, 10, 100)\n",
    "sys = ct.TransferFunction([1], [0, 4, 5])\n",
    "t, y = ct.step_response(sys, T=t)\n",
    "plt.grid()\n",
    "plt.plot(t, y)"
   ]
  },
  {
   "cell_type": "code",
   "execution_count": null,
   "metadata": {
    "pycharm": {
     "name": "#%%\n"
    }
   },
   "outputs": [],
   "source": [
    "\n"
   ]
  }
 ],
 "metadata": {
  "kernelspec": {
   "display_name": "Python 3",
   "language": "python",
   "name": "python3"
  },
  "language_info": {
   "codemirror_mode": {
    "name": "ipython",
    "version": 3
   },
   "file_extension": ".py",
   "mimetype": "text/x-python",
   "name": "python",
   "nbconvert_exporter": "python",
   "pygments_lexer": "ipython3",
   "version": "3.7.7"
  },
  "pycharm": {
   "stem_cell": {
    "cell_type": "raw",
    "metadata": {
     "collapsed": false
    },
    "source": []
   }
  }
 },
 "nbformat": 4,
 "nbformat_minor": 1
}
