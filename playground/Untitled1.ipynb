{
 "cells": [
  {
   "cell_type": "code",
   "execution_count": 3,
   "metadata": {},
   "outputs": [],
   "source": [
    "import numpy as np\n",
    "import sympy as sp\n",
    "import control as ct\n",
    "from control2020 import core\n",
    "from matplotlib import pyplot as plt\n",
    "s = sp.var(\"s\")"
   ]
  },
  {
   "cell_type": "code",
   "execution_count": 135,
   "metadata": {},
   "outputs": [
    {
     "name": "stdout",
     "output_type": "stream",
     "text": [
      "psi= 0.8601598514412787\n",
      "wn= 0.40437377584376494\n",
      "((-0.3478260869565218+0.20624054844442594j), (-0.3478260869565218-0.20624054844442594j))\n",
      "poles_angles [4.4465335396039025, 17.54880385006681, 149.33453574048792, 149.33453574048792]\n",
      "zeros_angles []\n",
      "70.33220443532326\n",
      "-0.4215401368685592\n",
      "5.229338891393239 1.1021881160049927 6.202658340246973\n"
     ]
    }
   ],
   "source": [
    "# designing a PID controller with root locus method\n",
    "\n",
    "gs = 1/s/(s+1)/(s+3)\n",
    "sys = core.symbolic_transfer_function(gs)\n",
    "\n",
    "# design params\n",
    "ts = 11.5\n",
    "po = 0.5\n",
    "\n",
    "psi, wn = core.from_quality_to_psi_wn(po, ts)\n",
    "print(f\"psi= {psi}\\nwn= {wn}\")\n",
    "pds = core.construct_poles(psi, wn)\n",
    "\n",
    "print(pds)\n",
    "\n",
    "pd = pds[0] # util pole in the (Re-, Im+) plane\n",
    "\n",
    "# finding b with the angle condition\n",
    "poles_angles = []\n",
    "for pole in [*ct.pole(sys), 0]: # for each pole and added the pole generated for the PID integrator \n",
    "    angle = np.angle(pd - pole)*180/np.pi\n",
    "    if angle < 0:\n",
    "        angle = 360 + angle\n",
    "    poles_angles.append(angle)\n",
    "\n",
    "zeros_angles = []\n",
    "for zero in ct.zero(sys): # for each pole\n",
    "    zeros_angles.append(np.angle(pd - zero)*180/np.pi)\n",
    "\n",
    "print(\"poles_angles\", poles_angles)\n",
    "print(\"zeros_angles\", zeros_angles)\n",
    "\n",
    "a_angle = -180 - (sum(zeros_angles) - sum(poles_angles))\n",
    "a_angle = a_angle/2 # because a == b in the PID controller form\n",
    "\n",
    "print(a_angle)\n",
    "dist = pd.imag/np.tan(a_angle*np.pi/180)\n",
    "b = pd.real - dist # finally, we have b\n",
    "print(b)\n",
    "\n",
    "# finding Kc with module condition\n",
    "\n",
    "poles_dists = []\n",
    "for pole in [*ct.pole(sys), 0]: # for each pole and added the pole generated for the PID integrator \n",
    "    poles_dists.append(np.abs(pd - pole))\n",
    "\n",
    "zeros_dists = []\n",
    "for zero in [*ct.zero(sys), b, b]: # for each pole added with our new zeros (from PID) calculated before\n",
    "    zeros_dists.append(np.abs(pd - zero))\n",
    "    \n",
    "k = sys.num[0][0][-1] # assuming the basic form of a SISO system\n",
    "kc = np.prod(poles_dists)/k/np.prod(zeros_dists)\n",
    "\n",
    "# defining PID constants\n",
    "kp = -2*kc*b\n",
    "ki = kc*b**2\n",
    "kd = kc\n",
    "\n",
    "print(kp, ki, kd)\n",
    "\n",
    "c = kp + kd*s + ki/s\n",
    "pid = core.symbolic_transfer_function(c)"
   ]
  },
  {
   "cell_type": "code",
   "execution_count": 136,
   "metadata": {},
   "outputs": [
    {
     "data": {
      "image/png": "[encoded data removed]",
      "text/plain": [
       "<Figure size 432x288 with 1 Axes>"
      ]
     },
     "metadata": {
      "needs_background": "light"
     },
     "output_type": "display_data"
    }
   ],
   "source": [
    "tf = ct.feedback(sys*pid, 1)\n",
    "t, y = ct.step_response(tf)\n",
    "plt.plot(t, y)\n",
    "plt.grid()"
   ]
  },
  {
   "cell_type": "code",
   "execution_count": 113,
   "metadata": {},
   "outputs": [
    {
     "name": "stdout",
     "output_type": "stream",
     "text": [
      "_____Eigenvalue______ Damping___ Frequency_\n",
      "    -1.501                     1      1.501\n",
      "   -0.2667    +0.315j     0.6461     0.4127\n",
      "   -0.2667    -0.315j     0.6461     0.4127\n"
     ]
    },
    {
     "data": {
      "text/plain": [
       "(array([1.50139658, 0.41274411, 0.41274411]),\n",
       " array([1.       , 0.6460823, 0.6460823]),\n",
       " array([-1.50139658+0.j        , -0.26666667+0.31503427j,\n",
       "        -0.26666667-0.31503427j]))"
      ]
     },
     "execution_count": 113,
     "metadata": {},
     "output_type": "execute_result"
    }
   ],
   "source": [
    "ct.damp(tf)"
   ]
  },
  {
   "cell_type": "code",
   "execution_count": 137,
   "metadata": {},
   "outputs": [
    {
     "data": {
      "text/plain": [
       "{'RiseTime': 0.785660660660661,\n",
       " 'SettlingTime': 9.89126626626627,\n",
       " 'SettlingMin': 0.9049684998667721,\n",
       " 'SettlingMax': 1.0986880556700782,\n",
       " 'Overshoot': 9.912199956010781,\n",
       " 'Undershoot': 0.0,\n",
       " 'Peak': 1.0986880556700782,\n",
       " 'PeakTime': 1.7727727727727733,\n",
       " 'SteadyStateValue': 0.9996051904245359}"
      ]
     },
     "execution_count": 137,
     "metadata": {},
     "output_type": "execute_result"
    }
   ],
   "source": [
    "ct.step_info(tf)"
   ]
  },
  {
   "cell_type": "code",
   "execution_count": 45,
   "metadata": {},
   "outputs": [],
   "source": [
    "import random"
   ]
  },
  {
   "cell_type": "code",
   "execution_count": 47,
   "metadata": {},
   "outputs": [
    {
     "data": {
      "text/plain": [
       "0.07374635097620597"
      ]
     },
     "execution_count": 47,
     "metadata": {},
     "output_type": "execute_result"
    }
   ],
   "source": [
    "random.random()"
   ]
  },
  {
   "cell_type": "code",
   "execution_count": 62,
   "metadata": {},
   "outputs": [
    {
     "data": {
      "text/plain": [
       "1.0"
      ]
     },
     "execution_count": 62,
     "metadata": {},
     "output_type": "execute_result"
    }
   ],
   "source": [
    "sys.num[0][0][-1]"
   ]
  },
  {
   "cell_type": "code",
   "execution_count": 291,
   "metadata": {},
   "outputs": [
    {
     "name": "stdout",
     "output_type": "stream",
     "text": [
      "psi= 0.50 | wn= 3.00\n",
      "\n",
      "desired poles\n",
      "-1.50 + 2.59i\n",
      "-1.50 + -2.59i\n",
      "\n",
      "compensator angle= 40.87\n",
      "\n",
      "fixed zero= -1.10 | angle= 98.72deg\n",
      "57.853061818568065 1.6305143091076781\n",
      "\n",
      "calculated pole= -3.13 + 0.00i\n"
     ]
    },
    {
     "data": {
      "text/latex": [
       "$$\\frac{0.2953 s + 0.3249}{0.3196 s + 1}$$"
      ],
      "text/plain": [
       "\n",
       "0.2953 s + 0.3249\n",
       "-----------------\n",
       "  0.3196 s + 1"
      ]
     },
     "execution_count": 291,
     "metadata": {},
     "output_type": "execute_result"
    }
   ],
   "source": [
    "# Designing compensators\n",
    "# A Lead Compensator\n",
    "\n",
    "gs = 10/s/(s+1)\n",
    "\n",
    "sys = core.symbolic_transfer_function(gs)\n",
    "\n",
    "po = 16.3\n",
    "ts = 2.67\n",
    "\n",
    "psi, wn = core.from_quality_to_psi_wn(po, ts)\n",
    "print(\"psi= %.2f | wn= %.2f\"%(psi, wn))\n",
    "print(\"\")\n",
    "d_poles = core.construct_poles(psi, wn)\n",
    "print(\"desired poles\")\n",
    "for d_p in poles:\n",
    "    print(\"%.2f + %.2fi\"%(d_p.real, d_p.imag))\n",
    "    \n",
    "pd = d_poles[0]\n",
    "\n",
    "poles_angles = []\n",
    "for pole in sys.pole():\n",
    "    angle = np.angle(pd - pole)*180/np.pi\n",
    "    if angle < 0:\n",
    "        angle = 360 - angle\n",
    "    poles_angles.append(angle)\n",
    "    \n",
    "zeros_angles = []\n",
    "for zero in sys.zero():\n",
    "    angle = np.angle(pd - zero)*180/np.pi\n",
    "    if angle < 0:\n",
    "        angle = 360 - angle\n",
    "    zeros_angles.append(angle)\n",
    "\n",
    "plant_angle = sum(zeros_angles) - sum(poles_angles)\n",
    "\n",
    "compensator_angle = -180 - plant_angle\n",
    "print(\"\")\n",
    "print(\"compensator angle= %.2f\"%compensator_angle)\n",
    "\n",
    "compensator_zero = -1.1 # fixed value for your compensator \n",
    "compensator_zero_angle = np.angle(pd - compensator_zero)*180/np.pi\n",
    "\n",
    "print(\"\")\n",
    "print(\"fixed zero= %.2f | angle= %.2fdeg\"%(compensator_zero, compensator_zero_angle))\n",
    "\n",
    "# angle condition\n",
    "pole_angle = compensator_zero_angle - compensator_angle # calculated value for your compensator\n",
    "dist_pole = pd.imag / np.tan(pole_angle*np.pi/180)\n",
    "print(pole_angle, dist_pole)\n",
    "\n",
    "compensator_pole = pd.real - dist_pole\n",
    "\n",
    "print(\"\")\n",
    "print(\"calculated pole= %.2f + %.2fi\"%(compensator_pole.real, compensator_pole.imag))\n",
    "\n",
    "# finally we can to calculate the kc of our controller\n",
    "\n",
    "# module condition\n",
    "g1 = (s-compensator_zero)/(s-compensator_pole)\n",
    "g1_sys = core.symbolic_transfer_function(g1)\n",
    "\n",
    "g1_pd_evaluated = g1_sys.horner(pd)[0][0] # expecting a siso model\n",
    "sys_pd_evaluated = sys.horner(pd)[0][0] # expecting a siso model\n",
    "\n",
    "kc = 1/np.abs(g1_pd_evaluated)/np.abs(sys_pd_evaluated)\n",
    "\n",
    "final_compensator = kc * g1_sys\n",
    "final_compensator"
   ]
  },
  {
   "cell_type": "code",
   "execution_count": 210,
   "metadata": {
    "scrolled": true
   },
   "outputs": [
    {
     "data": {
      "text/plain": [
       "{'RiseTime': 0.5383403612755794,\n",
       " 'SettlingTime': 2.6731383456442566,\n",
       " 'SettlingMin': 0.9067884008331618,\n",
       " 'SettlingMax': 1.1791527734092258,\n",
       " 'Overshoot': 17.898008414884625,\n",
       " 'Undershoot': 0.0,\n",
       " 'Peak': 1.1791527734092258,\n",
       " 'PeakTime': 1.2004371274420966,\n",
       " 'SteadyStateValue': 1.0001464734330132}"
      ]
     },
     "execution_count": 210,
     "metadata": {},
     "output_type": "execute_result"
    },
    {
     "data": {
      "image/png": "[encoded data removed]",
      "text/plain": [
       "<Figure size 432x288 with 1 Axes>"
      ]
     },
     "metadata": {
      "needs_background": "light"
     },
     "output_type": "display_data"
    }
   ],
   "source": [
    "sys_f = ct.feedback(final_compensator*sys, 1)\n",
    "t, y = ct.step_response(sys_f)\n",
    "plt.plot(t, y)\n",
    "plt.grid()\n",
    "ct.step_info(sys_f)"
   ]
  },
  {
   "cell_type": "code",
   "execution_count": 283,
   "metadata": {},
   "outputs": [],
   "source": [
    "# Designing compensators\n",
    "# a Lag Compensator\n",
    "\n",
    "gs = 1.06*(s+9)/s/(s+1)/(s+2)/(2*s+3.333)\n",
    "\n",
    "sys = core.symbolic_transfer_function(gs)\n",
    "\n",
    "# for a lag compensator to set your pole and zero really close to the origin\n",
    "# for example:\n",
    "a = -0.05\n",
    "b = -0.005\n",
    "\n",
    "lag_compensator = (s-a)/(s-b)\n",
    "lag_sys = core.symbolic_transfer_function(lag_compensator)\n",
    "\n",
    "# we use the dominant pole from our closed system\n",
    "pre_sys = ct.feedback(sys*lag_sys, 1)\n",
    "pre_sys_poles = ct.pole(pre_sys)\n",
    "pd = pre_sys_poles[np.argsort(pre_sys_poles)[-2]] # index -1 is our compensator artificial pole\n",
    "\n",
    "lag_pd_evaluated = lag_sys.horner(pd)[0][0] # expecting a siso model\n",
    "sys_pd_evaluated = sys.horner(pd)[0][0] # expecting a siso model\n",
    "\n",
    "kc = 1/np.abs(lag_pd_evaluated)/np.abs(sys_pd_evaluated)\n",
    "\n",
    "final_compensator = kc * lag_sys"
   ]
  },
  {
   "cell_type": "code",
   "execution_count": 280,
   "metadata": {},
   "outputs": [
    {
     "data": {
      "text/latex": [
       "$$\\frac{s + 0.05}{s + 0.005}$$"
      ],
      "text/plain": [
       "\n",
       "s + 0.05\n",
       "---------\n",
       "s + 0.005"
      ]
     },
     "execution_count": 280,
     "metadata": {},
     "output_type": "execute_result"
    }
   ],
   "source": [
    "final_compensator"
   ]
  },
  {
   "cell_type": "code",
   "execution_count": 270,
   "metadata": {},
   "outputs": [
    {
     "data": {
      "text/plain": [
       "0.9999999999999989"
      ]
     },
     "execution_count": 270,
     "metadata": {},
     "output_type": "execute_result"
    }
   ],
   "source": [
    "kc"
   ]
  },
  {
   "cell_type": "code",
   "execution_count": 274,
   "metadata": {},
   "outputs": [
    {
     "data": {
      "text/plain": [
       "<matplotlib.collections.PathCollection at 0x11dec4940>"
      ]
     },
     "execution_count": 274,
     "metadata": {},
     "output_type": "execute_result"
    },
    {
     "data": {
      "image/png": "[encoded data removed]",
      "text/plain": [
       "<Figure size 432x288 with 1 Axes>"
      ]
     },
     "metadata": {
      "needs_background": "light"
     },
     "output_type": "display_data"
    }
   ],
   "source": [
    "plt.scatter(np.real(pre_sys_poles), np.imag(pre_sys_poles))"
   ]
  }
 ],
 "metadata": {
  "kernelspec": {
   "display_name": "controlsystems",
   "language": "python",
   "name": "controlsystems"
  },
  "language_info": {
   "codemirror_mode": {
    "name": "ipython",
    "version": 3
   },
   "file_extension": ".py",
   "mimetype": "text/x-python",
   "name": "python",
   "nbconvert_exporter": "python",
   "pygments_lexer": "ipython3",
   "version": "3.8.2"
  }
 },
 "nbformat": 4,
 "nbformat_minor": 4
}
