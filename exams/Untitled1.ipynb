{
 "cells": [
  {
   "cell_type": "markdown",
   "metadata": {},
   "source": [
    "# Examen Final - Teoría de Sistemas de Control - UTEC - 2020-1"
   ]
  },
  {
   "cell_type": "markdown",
   "metadata": {},
   "source": [
    "**Alumno**: Bregy Malpartida\n",
    "\n",
    "**Stack**: Python3.8, Numpy, Matplotlib, Control, Control2020, Scipy, Jupyter, IPython\n",
    "\n",
    "---"
   ]
  },
  {
   "cell_type": "code",
   "execution_count": 1,
   "metadata": {},
   "outputs": [],
   "source": [
    "import numpy as np\n",
    "import control as ct\n",
    "import control2020 as ct20\n",
    "from matplotlib import pyplot as plt\n",
    "%matplotlib inline"
   ]
  },
  {
   "cell_type": "markdown",
   "metadata": {},
   "source": [
    "## Pregunta 1\n",
    "Se tiene el siguiente sistema en lazo abierto\n",
    "$$G(s)=\\frac{0.3(s+2)}{s(s+45)(s+6.2)(s+0.7)}$$"
   ]
  },
  {
   "cell_type": "markdown",
   "metadata": {},
   "source": [
    "### 1.a\n",
    "Diseñe un compensador en la frecuencia de modo a obtener un Kv de 40 y un %OS menor al 10%. Justifique que compensador utilizará. Muestre la gráfica del error a la rampa y el diagrama de bode indicando los márgenes. Use el tiempo de simulación que crea conveniente."
   ]
  },
  {
   "cell_type": "markdown",
   "metadata": {},
   "source": [
    "**Solución**"
   ]
  },
  {
   "cell_type": "code",
   "execution_count": 3,
   "metadata": {},
   "outputs": [
    {
     "data": {
      "text/latex": [
       "$$\\frac{0.3 s + 0.6}{s^4 + 51.9 s^3 + 314.8 s^2 + 195.3 s}$$"
      ],
      "text/plain": [
       "\n",
       "            0.3 s + 0.6\n",
       "------------------------------------\n",
       "s^4 + 51.9 s^3 + 314.8 s^2 + 195.3 s"
      ]
     },
     "metadata": {},
     "output_type": "display_data"
    }
   ],
   "source": [
    "s = ct.TransferFunction([1, 0], [1])\n",
    "g = 0.3*(s+2)/s/(s+45)/(s+6.2)/(s+0.7)\n",
    "display(g)"
   ]
  },
  {
   "cell_type": "code",
   "execution_count": null,
   "metadata": {},
   "outputs": [],
   "source": []
  }
 ],
 "metadata": {
  "kernelspec": {
   "display_name": "controlsystems",
   "language": "python",
   "name": "controlsystems"
  },
  "language_info": {
   "codemirror_mode": {
    "name": "ipython",
    "version": 3
   },
   "file_extension": ".py",
   "mimetype": "text/x-python",
   "name": "python",
   "nbconvert_exporter": "python",
   "pygments_lexer": "ipython3",
   "version": "3.8.5"
  }
 },
 "nbformat": 4,
 "nbformat_minor": 4
}
